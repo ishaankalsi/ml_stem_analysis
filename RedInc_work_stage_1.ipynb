{
 "cells": [
  {
   "cell_type": "code",
   "execution_count": 143,
   "metadata": {},
   "outputs": [],
   "source": [
    "import pandas as pd\n",
    "import numpy as np"
   ]
  },
  {
   "cell_type": "code",
   "execution_count": 144,
   "metadata": {},
   "outputs": [],
   "source": [
    "redinc_excel=pd.read_excel('/home/ishaan/Codes/Datasets/RedCarpet Inc/2010 Federal STEM Education Inventory Data Set (1).xls')"
   ]
  },
  {
   "cell_type": "code",
   "execution_count": 145,
   "metadata": {},
   "outputs": [
    {
     "name": "stdout",
     "output_type": "stream",
     "text": [
      "<class 'pandas.core.frame.DataFrame'>\n"
     ]
    }
   ],
   "source": [
    "print (type(redinc_excel))"
   ]
  },
  {
   "cell_type": "code",
   "execution_count": 146,
   "metadata": {},
   "outputs": [
    {
     "data": {
      "text/plain": [
       "array([['Investment Name', 'Agency', 'Subagency', ..., nan,\n",
       "        'Y5) Expert Review Type', nan],\n",
       "       ['Centers for Ocean Sciences Education Excellence ~',\n",
       "        'National Science Foundation',\n",
       "        'Directorate for Geosciences (GEO)', ..., nan, 'INDEPENDENT',\n",
       "        nan],\n",
       "       ['Broadening Participation in Computing (BPC)',\n",
       "        'National Science Foundation',\n",
       "        'Directorate for Computer & Information Science & Engineering (CISE)',\n",
       "        ..., 'NO', nan, nan],\n",
       "       ...,\n",
       "       ['AgDiscovery', 'Agriculture', 'APHIS', ..., nan, nan, nan],\n",
       "       ['SMART Grants', 'Education',\n",
       "        'Office of Postsecondary Education (OPE)', ..., 'NO', nan, nan],\n",
       "       [nan, nan, nan, ..., nan, nan, nan]], dtype=object)"
      ]
     },
     "execution_count": 146,
     "metadata": {},
     "output_type": "execute_result"
    }
   ],
   "source": [
    "redinc_excel.values"
   ]
  },
  {
   "cell_type": "code",
   "execution_count": 147,
   "metadata": {},
   "outputs": [
    {
     "name": "stdout",
     "output_type": "stream",
     "text": [
      "<class 'numpy.ndarray'>\n",
      "(254, 255)\n"
     ]
    }
   ],
   "source": [
    "print (type(redinc_excel.values))\n",
    "print (redinc_excel.values.shape)"
   ]
  },
  {
   "cell_type": "code",
   "execution_count": 148,
   "metadata": {},
   "outputs": [
    {
     "data": {
      "text/plain": [
       "array(['SMART Grants', 'Education',\n",
       "       'Office of Postsecondary Education (OPE)',\n",
       "       \"The National Science and Mathematics Access to Retain Talent Grant, also known as the National Smart Grant is available during the third and fourth years of undergraduate study (or fifth year of a five-year program) to at least half-time students who are eligible for the Federal Pell Grant and who are majoring in physical, life, or computer sciences, mathematics, technology, engineering or a critical foreign language; or non-major single liberal arts programs. The student must also maintain a cumulative grade point average (GPA) of at least 3.0 in course work required for the major. The National SMART Grant award is in addition to the student's Pell Grant award.  National SMART Grant will provide up to $4,000 for each of the third and fourth years of undergraduate study. The amount of the SMART Grant, when combined with a Pell Grant, may not exceed the student's cost of attendance. In addition, if the number of eligible students is large enough that payment of the full grant amounts would exceed the program appropriation in any fiscal year, then the amount of the grant to each eligible student may be ratably reduced.\\n\\n\\n\",\n",
       "       2006, 194, 341, 379.776, 'General STEM', nan, 'STEM Careers', nan,\n",
       "       nan, nan,\n",
       "       'Post-Secondary STEM Degrees: Increase the number of students who enroll in STEM majors, complete STEM credentials or degree programs, or are prepared to enter STEM careers or advanced education',\n",
       "       nan, nan, nan, nan, nan, nan, nan, nan, nan, nan,\n",
       "       'Large Scale Deployment: STEM education projects, techniques, models, resources, and/or technologies implemented at the state, regional, or national scale',\n",
       "       nan, nan, nan, nan, nan, nan, nan, nan, nan, nan, nan, nan, nan,\n",
       "       nan, nan, nan, nan, nan, nan, nan, nan, 'Loan forgiveness', nan,\n",
       "       nan, nan, nan, nan, nan, nan, 'Pre-K-20 learners', nan, nan, nan,\n",
       "       nan, 'Undergraduate (13-16)', nan, nan, nan, nan, nan, nan, nan,\n",
       "       nan, nan, nan, nan, nan, nan, nan, nan, nan, nan, nan, nan, nan,\n",
       "       nan, nan, nan, nan, nan, nan, nan, nan, nan, nan, nan, 'No', nan,\n",
       "       nan, nan, nan, nan, nan, nan, nan, nan, nan, nan, nan, nan, nan,\n",
       "       'No', nan, nan, nan, 'No', nan, nan, nan, nan, nan, nan,\n",
       "       'National scope or not targeted to a geographic region', 'x', nan,\n",
       "       nan, nan, nan, nan, nan, nan, nan,\n",
       "       'STEM (no specific subject or field required)', nan, nan, nan, nan,\n",
       "       nan, nan, nan, nan, nan, nan, nan, nan, nan,\n",
       "       'Individuals (e.g., directly funded scholarships, grants, loans)',\n",
       "       nan, nan, nan, nan, nan, nan, nan, nan, nan, nan, nan, nan, nan,\n",
       "       nan, nan, nan, \"Don't know\", nan, nan, nan, nan, nan, nan, nan,\n",
       "       nan, nan, nan, nan, nan, nan, nan, nan, nan, nan, nan, nan, nan,\n",
       "       nan, nan, nan, nan, nan, 'No', nan, nan, nan, nan, nan, nan, nan,\n",
       "       nan, nan, nan, nan, nan, nan, nan, nan, nan, nan, nan, nan, nan,\n",
       "       nan, nan, nan, nan, nan, nan, nan, nan, nan, nan, nan, nan, nan,\n",
       "       nan, nan, nan, nan, nan, nan, nan, nan, nan, nan, nan, nan, nan,\n",
       "       nan, nan, nan, nan, nan, nan, nan, nan, 'NO', nan, nan, 'NO', nan,\n",
       "       nan, 'NO', nan, nan, 'NO', nan, nan, 'NO', nan, nan], dtype=object)"
      ]
     },
     "execution_count": 148,
     "metadata": {},
     "output_type": "execute_result"
    }
   ],
   "source": [
    "#redinc_excel.values[i][j]   i->rows of excel j->column of excel   redinc_excel.values[i].shape[0]=254 rows\n",
    "#redinc_excel.values[i][j].shape[0] ->255 columns\n",
    "#when j==5 FY2008 j==6 FY2009d FY 2008 values sarts from i==13to 252 excel_sheet_row-2\n",
    "redinc_excel.values[252]"
   ]
  },
  {
   "cell_type": "code",
   "execution_count": 149,
   "metadata": {},
   "outputs": [
    {
     "name": "stdout",
     "output_type": "stream",
     "text": [
      "C1) Funding FY2008\n"
     ]
    }
   ],
   "source": [
    "print (redinc_excel.values[0][5])"
   ]
  },
  {
   "cell_type": "code",
   "execution_count": 150,
   "metadata": {},
   "outputs": [
    {
     "name": "stdout",
     "output_type": "stream",
     "text": [
      "(254, 255)\n"
     ]
    }
   ],
   "source": [
    "print (redinc_excel.values.shape)"
   ]
  },
  {
   "cell_type": "code",
   "execution_count": 151,
   "metadata": {},
   "outputs": [
    {
     "name": "stdout",
     "output_type": "stream",
     "text": [
      "194\n"
     ]
    }
   ],
   "source": [
    "print (redinc_excel.values[252][5])"
   ]
  },
  {
   "cell_type": "code",
   "execution_count": 152,
   "metadata": {},
   "outputs": [
    {
     "name": "stdout",
     "output_type": "stream",
     "text": [
      "[['Investment Name' 'Agency' 'Subagency' ... nan 'Y5) Expert Review Type'\n",
      "  nan]\n",
      " ['Centers for Ocean Sciences Education Excellence ~'\n",
      "  'National Science Foundation' 'Directorate for Geosciences (GEO)' ...\n",
      "  nan 'INDEPENDENT' nan]\n",
      " ['Broadening Participation in Computing (BPC)'\n",
      "  'National Science Foundation'\n",
      "  'Directorate for Computer & Information Science & Engineering (CISE)'\n",
      "  ... 'NO' nan nan]\n",
      " ...\n",
      " ['AgDiscovery' 'Agriculture' 'APHIS' ... nan nan nan]\n",
      " ['SMART Grants' 'Education' 'Office of Postsecondary Education (OPE)'\n",
      "  ... 'NO' nan nan]\n",
      " [nan nan nan ... nan nan nan]]\n"
     ]
    }
   ],
   "source": [
    "print (redinc_excel.values)"
   ]
  },
  {
   "cell_type": "code",
   "execution_count": 153,
   "metadata": {},
   "outputs": [
    {
     "name": "stdout",
     "output_type": "stream",
     "text": [
      "-16.621644717692906 %\n"
     ]
    }
   ],
   "source": [
    "fy_2008_total_idx=redinc_excel.values[0].shape[0] - 2 #why -2 see reason above\n",
    "#print (fy_2008_total_idx)\n",
    "tot_fd_2008=redinc_excel.values[fy_2008_total_idx][5]\n",
    "tot_fd_2009=redinc_excel.values[fy_2008_total_idx][6]\n",
    "#print (tot_fd_2008)\n",
    "#print (tot_fd_2009)\n",
    "growth_percent=(((tot_fd_2008-tot_fd_2009)/tot_fd_2009))*100\n",
    "print (growth_percent,\"%\")"
   ]
  },
  {
   "cell_type": "code",
   "execution_count": 154,
   "metadata": {},
   "outputs": [],
   "source": [
    "#now i have to show growth percent of total as well as single \n",
    "\n",
    "def fund_grwth_total(main_excel):\n",
    "    \n",
    "    fy_2008_total_idx=main_excel.values.shape[0] -1\n",
    "    fy_2009_total_idx=fy_2008_total_idx\n",
    "    \n",
    "    tot_fd_2008=main_excel.values[fy_2008_total_idx][5]\n",
    "    tot_fd_2009=main_excel.values[fy_2009_total_idx][6]\n",
    "    \n",
    "    percentage_growth=((tot_fd_2009-tot_fd_2008)/tot_fd_2008)*100\n",
    "    \n",
    "    return percentage_growth\n",
    "    "
   ]
  },
  {
   "cell_type": "code",
   "execution_count": 155,
   "metadata": {},
   "outputs": [],
   "source": [
    "def fund_grwth_every_year_list_tag(main_excel):\n",
    "    \n",
    "    #row range 13 to values[0].shape[0]\n",
    "    \n",
    "    \n",
    "    row_idx_max=main_excel.values.shape[0]   #254-\n",
    "    growth_percent_list=[0 for i in range(row_idx_max)]\n",
    "    growth_percent_tag_list=[0 for i in range(row_idx_max)]\n",
    "    \n",
    "    \n",
    "    for row in range(1,row_idx_max):\n",
    "        \n",
    "        growth_percent=0\n",
    "        fy_2008_val=main_excel.values[row][5]\n",
    "        fy_2009_val=main_excel.values[row][6]\n",
    "        \n",
    "        try:\n",
    "            #print (row,fy_2008_val,fy_2009_val)\n",
    "            growth_percent=((fy_2009_val-fy_2008_val)/fy_2008_val)*100\n",
    "            growth_percent_list[row]=growth_percent\n",
    "            \n",
    "            if(growth_percent>0):\n",
    "                growth_percent_tag_list[row]=1\n",
    "            else:\n",
    "                growth_percent_tag_list[row]=-1\n",
    "            \n",
    "        except Exception as e:\n",
    "            print (e)\n",
    "            growth_percent=0\n",
    "            growth_percent_list[row]=growth_percent\n",
    "            growth_percent_tag_list[row]=1\n",
    "        \n",
    "        finally:\n",
    "            pass\n",
    "        \n",
    "    growth_percent_list=growth_percent_list[1:]\n",
    "    growth_percent_tag_list=growth_percent_tag_list[1:]\n",
    "        \n",
    "    return (growth_percent_list,growth_percent_tag_list)"
   ]
  },
  {
   "cell_type": "code",
   "execution_count": 156,
   "metadata": {},
   "outputs": [
    {
     "name": "stdout",
     "output_type": "stream",
     "text": [
      "float division by zero\n",
      "division by zero\n",
      "division by zero\n",
      "division by zero\n",
      "division by zero\n",
      "float division by zero\n",
      "division by zero\n",
      "float division by zero\n",
      "float division by zero\n",
      "float division by zero\n",
      "division by zero\n",
      "division by zero\n",
      "division by zero\n",
      "float division by zero\n",
      "[37.21374045801527, 0.0, 0.0, 157.98687089715534, 68.09815950920249, 0.0, 1.8181818181818195, 69.16267444282443, 20.429277331686208, 7.765567765567768, -13.142857142857142, -8.055009823182715, 0.7578701904391771, 9.603004291845489, 0, -7.540394973070017, 30.87071240105542, 79.6323375809484, 60.315940641455235, 108.9009990917348, -1.3229308005427427, 5.676855895196502, 55.719557195571944, 38.48920863309351, 16.810344827586214, 9.229219143576822, 2.256361017762854, 1.9705197827773406, 85.18518518518518, 45.843828715365234, 99.13043478260867, 8.391167192429021, 4.609374999999999, 4.673839946200406, 5.016061279960468, 16.020236087689717, 9.536082474226799, 108.08950086058522, 273.90700902151275, -10.256410256410255, 0, 0.0, 0.0, 12.068965517241383, -5.140845070422532, -1.9499999999999962, -1.5210608424337029, -12.89111389236546, 0.0, 158.87035276840163, 52.742616033755276, -23.63273453093812, nan, -3.558208053184248, 27.17770034843206, nan, nan, 151.09170305676852, 13.917525773195862, nan, -34.47737909516381, -17.833333333333332, -7.034000000000002, 2.7777777777777803, -10.033444816053501, 0.0, -16.62763466042155, 57.65306122448979, 4.601579325197416, nan, nan, -17.307692307692314, nan, nan, -65.41666666666667, 34.48275862068966, 12.244897959183664, -21.70385395537525, -16.666666666666664, nan, 3.3251231527093488, -12.765957446808521, -46.75485226851279, 25.000000000000007, 42.857142857142854, nan, nan, 483.2112977371417, nan, 19.999999999999993, 27.39275580917021, 20.000000000000004, nan, 10.000000000000009, 0.0, -0.8620689655172422, 5.659362817583012, 0.0, nan, 14.925373134328348, 66.66666666666666, 0.0, 4.347826086956526, -5.0, 6.666666666666672, 1400.0, 73.68421052631578, -11.538461538461549, 1.0331702011963093, 9.812165781783708, 0.0, -25.0, 116.66666666666667, nan, -7.692307692307699, -48.45004704638903, 0.0, 0.0, 0.0, 0, 20.545454545454543, nan, nan, 26.17159336697909, 91.53225806451613, 178.26086956521743, -2.941176470588238, 0, nan, 5.449591280653956, 0.0, 6.666666666666672, -3.396739130434786, 2.735741709756337, 0.0, 0.0, 103.78583017847485, 516.8000000000001, 0, 5.5688622754491, 11.702127659574463, -3.329461866047243, -8.463949843260195, -31.560390589160498, 334.94792312056927, -20.412493802677236, 0.0, nan, 0.0, 0.0, 3.3333333333333335, 0.0, 88.69198312236288, 0.0, -74.82014388489209, 150.19430051813475, 12.882234272953003, -1.5597920277296375, 101.07615401400487, -1.4181818181818235, 7.643678160919541, 5.487804878048785, 1.5706806282722363, 0.0, 4.995357474466112, 0, -3.852160333159816, 0.0, -34.29355281207133, 0, 0.07942811755362288, 18.229642913556805, 2.8527358936959506, 16.775706683933624, 26.75375805297065, 3.7735849056603805, 10.192023633677984, 35.832877212187555, 38.341410877759834, 81.72715894868585, 69.3861693861694, 122.02046880158468, 37.236606315269114, 8.262994224788981, 17.169473749151713, 0, 54.76306790425012, 2.1008403361344556, 34.330985915492974, 104.3103448275862, 180.70866141732282, 32.000000000000014, -5.681818181818182, -0.27855153203342026, -11.42857142857143, 0.0, 4.545454545454529, -52.95663600525624, 0.5248091603053493, 0.0, 4.938271604938262, 13.863216266173742, -100.0, 100.06949270326615, 114.89361702127658, 0.0, -100.0, 217.46031746031744, 0.0, -0.19342359767892417, 8.49452387920647, 0.0, -3.4851163078124094, 0, 0, 0, 7.334273624823702, 0, nan, 0, 100.0, 4.240815587862698, 24.16886524822695, 0.0, 103.21285140562246, 9.086206896551726, 3.5714285714285747, -53.20754716981132, 22.794116207831365, 41.05793450881611, 0, 12.10870645763647, 1.4278429372769008, 1.436265709156175, 0.9345794392523372, 6.818181818181822, 41.79999999999999, 32.414014099551366, 41.910809331906805, nan, -28.57142857142857, 0.0, 60.0, 26.55367231638419, 25.683060109289624, -2.99442896935933, -33.74458874458875, 12.537018756169788, -100.0, 2.1008403361344556, nan, 75.77319587628865, 19.935203400708026] \n",
      "\n",
      "[1, -1, -1, 1, 1, -1, 1, 1, 1, 1, -1, -1, 1, 1, 1, -1, 1, 1, 1, 1, -1, 1, 1, 1, 1, 1, 1, 1, 1, 1, 1, 1, 1, 1, 1, 1, 1, 1, 1, -1, 1, -1, -1, 1, -1, -1, -1, -1, -1, 1, 1, -1, -1, -1, 1, -1, -1, 1, 1, -1, -1, -1, -1, 1, -1, -1, -1, 1, 1, -1, -1, -1, -1, -1, -1, 1, 1, -1, -1, -1, 1, -1, -1, 1, 1, -1, -1, 1, -1, 1, 1, 1, -1, 1, -1, -1, 1, -1, -1, 1, 1, -1, 1, -1, 1, 1, 1, -1, 1, 1, -1, -1, 1, -1, -1, -1, -1, -1, -1, 1, 1, -1, -1, 1, 1, 1, -1, 1, -1, 1, -1, 1, -1, 1, -1, -1, 1, 1, 1, 1, 1, -1, -1, -1, 1, -1, -1, -1, -1, -1, 1, -1, 1, -1, -1, 1, 1, -1, 1, -1, 1, 1, 1, -1, 1, 1, -1, -1, -1, 1, 1, 1, 1, 1, 1, 1, 1, 1, 1, 1, 1, 1, 1, 1, 1, 1, 1, 1, 1, 1, 1, 1, -1, -1, -1, -1, 1, -1, 1, -1, 1, 1, -1, 1, 1, -1, -1, 1, -1, -1, 1, -1, -1, 1, 1, 1, 1, 1, -1, 1, 1, 1, 1, -1, 1, 1, 1, -1, 1, 1, 1, 1, 1, 1, 1, 1, 1, 1, 1, -1, -1, -1, 1, 1, 1, -1, -1, 1, -1, 1, -1, 1, 1] \n",
      "\n"
     ]
    }
   ],
   "source": [
    "\n",
    "growth_percent_list,growth_percent_tag_list=fund_grwth_every_year_list_tag(redinc_excel)\n",
    "print (growth_percent_list,\"\\n\")\n",
    "print (growth_percent_tag_list,\"\\n\")\n"
   ]
  },
  {
   "cell_type": "code",
   "execution_count": 157,
   "metadata": {},
   "outputs": [],
   "source": [
    "def get_req_lists(main_excel):\n",
    "    \n",
    "    max_row_idx=main_excel.values.shape[0] \n",
    "    invest_comp_name_list=[\"\" for i in range(max_row_idx) ]\n",
    "    fy_2008_list=[0 for i in range(max_row_idx)]\n",
    "    fy_2009_list=[0 for i in range(max_row_idx)]\n",
    "    \n",
    "    for row in range(1,max_row_idx):\n",
    "        try:\n",
    "            invest_comp_name_list[row]=main_excel.values[row][0]\n",
    "            fy_2008_list[row]=main_excel.values[row][5]\n",
    "            fy_2009_list[row]=main_excel.values[row][6]\n",
    "        \n",
    "        except Exception as e:\n",
    "            print (e)\n",
    "            \n",
    "    invest_comp_name_list=invest_comp_name_list[1:]\n",
    "    fy_2008_list=fy_2008_list[1:]\n",
    "    fy_2009_list=fy_2009_list[1:]\n",
    "            \n",
    "    \n",
    "    return  invest_comp_name_list,fy_2008_list,fy_2009_list"
   ]
  },
  {
   "cell_type": "code",
   "execution_count": 158,
   "metadata": {},
   "outputs": [],
   "source": [
    "inv_cmp_name,fy_2008_vals,fy_2009_vals=get_req_lists(redinc_excel)\n",
    "#print (list1)"
   ]
  },
  {
   "cell_type": "code",
   "execution_count": 159,
   "metadata": {},
   "outputs": [],
   "source": [
    "#total_growth=fund_grwth_total(redinc_excel)\n",
    "#print (total_growth)\n",
    "#print (redinc_excel.values.shape[0])\n",
    "#print (redinc_excel.values[253][5])"
   ]
  },
  {
   "cell_type": "code",
   "execution_count": 160,
   "metadata": {},
   "outputs": [],
   "source": [
    "output_df=pd.DataFrame(data={'Investment Name':inv_cmp_name,'C1) Funding FY 2008':fy_2008_vals,'C2) Funding FY 2009':fy_2009_vals\n",
    "                             ,'Growth%':growth_percent_list,'Growth% Tag':growth_percent_tag_list})\n",
    "#output2_df=pd.DataFrame(data=)\n",
    "writer=pd.ExcelWriter(\"/home/ishaan/Jupyter_direc/Assignments/RedINC_Work/Stage_1.xlsx\",engine='xlsxwriter')\n",
    "output_df.to_excel(writer,index=False,sheet_name=\"Stage1\")\n",
    "writer.save()"
   ]
  },
  {
   "cell_type": "code",
   "execution_count": null,
   "metadata": {},
   "outputs": [],
   "source": []
  }
 ],
 "metadata": {
  "kernelspec": {
   "display_name": "Python 3",
   "language": "python",
   "name": "python3"
  },
  "language_info": {
   "codemirror_mode": {
    "name": "ipython",
    "version": 3
   },
   "file_extension": ".py",
   "mimetype": "text/x-python",
   "name": "python",
   "nbconvert_exporter": "python",
   "pygments_lexer": "ipython3",
   "version": "3.6.4"
  }
 },
 "nbformat": 4,
 "nbformat_minor": 2
}
